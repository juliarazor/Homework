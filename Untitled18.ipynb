{
 "cells": [
  {
   "cell_type": "markdown",
   "id": "85342de1",
   "metadata": {},
   "source": [
    "Задание 1"
   ]
  },
  {
   "cell_type": "code",
   "execution_count": 7,
   "id": "7d4de301",
   "metadata": {},
   "outputs": [],
   "source": [
    "documents = [\n",
    "{'type': 'passport', 'number': '2207 876234', 'name': 'Василий Гупкин'},\n",
    "{'type': 'invoice', 'number': '11-2', 'name': 'Геннадий Покемонов'},\n",
    "{'type': 'insurance', 'number': '10006', 'name': 'Аристарх Павлов'}\n",
    "]"
   ]
  },
  {
   "cell_type": "code",
   "execution_count": 71,
   "id": "6d15b977",
   "metadata": {},
   "outputs": [
    {
     "name": "stdout",
     "output_type": "stream",
     "text": [
      "Команда: p\n",
      "Введите номер документа:11-2\n",
      "Владелец документа: Геннадий Покемонов\n"
     ]
    }
   ],
   "source": [
    "def owner_doc():\n",
    "    found = False\n",
    "k = input('Команда: ')\n",
    "if k == 'p':     \n",
    "   \n",
    "    found =False\n",
    "\n",
    "    num = input(\"Введите номер документа:\")\n",
    "    for dic in documents:\n",
    "        if \"number\" in dic.keys() and dic[\"number\"] == num:\n",
    "            print(\"Владелец документа:\",(dic[\"name\"]))\n",
    "            found = True\n",
    "\n",
    "    if not found:\n",
    "        print(\"Документ не найден в базе\")\n",
    "\n",
    "owner_doc() "
   ]
  },
  {
   "cell_type": "code",
   "execution_count": 72,
   "id": "8698bbf1",
   "metadata": {},
   "outputs": [
    {
     "name": "stdout",
     "output_type": "stream",
     "text": [
      "Команда: p\n",
      "Введите номер документа:145\n",
      "Документ не найден в базе\n"
     ]
    }
   ],
   "source": [
    "def owner_doc():\n",
    "    found = False\n",
    "k = input('Команда: ')\n",
    "if k == 'p':     \n",
    "   \n",
    "    found =False\n",
    "\n",
    "    num = input(\"Введите номер документа:\")\n",
    "    for dic in documents:\n",
    "        if \"number\" in dic.keys() and dic[\"number\"] == num:\n",
    "            print(\"Владелец документа:\",(dic[\"name\"]))\n",
    "            found = True\n",
    "\n",
    "    if not found:\n",
    "        print(\"Документ не найден в базе\")\n",
    "\n",
    "owner_doc() "
   ]
  },
  {
   "cell_type": "markdown",
   "id": "0061ece7",
   "metadata": {},
   "source": [
    "Задание 2"
   ]
  },
  {
   "cell_type": "code",
   "execution_count": 2,
   "id": "b1f6fc09",
   "metadata": {},
   "outputs": [],
   "source": [
    "directories = {\n",
    "'1': ['2207 876234', '11-2'],\n",
    "'2': ['10006'],\n",
    "'3': []\n",
    "}\n"
   ]
  },
  {
   "cell_type": "code",
   "execution_count": 74,
   "id": "46a7d560",
   "metadata": {},
   "outputs": [
    {
     "name": "stdout",
     "output_type": "stream",
     "text": [
      "Команда: s\n",
      "Введите номер документа: 11-2\n",
      "Документ хранится на полке: 1\n"
     ]
    }
   ],
   "source": [
    "def doc_shelf(document_number):\n",
    "    found = False\n",
    "r = input('Команда: ')\n",
    "if r== 's':  \n",
    "    found=False\n",
    "    document_number = input(\"Введите номер документа: \")\n",
    "    for k in directories:\n",
    "        if document_number in directories[k]:\n",
    "            print('Документ хранится на полке:',k)\n",
    "            found=True\n",
    "    if not found: \n",
    "        print ('Документ не найден')\n",
    "\n",
    "     \n",
    "       "
   ]
  },
  {
   "cell_type": "code",
   "execution_count": 75,
   "id": "693f3685",
   "metadata": {},
   "outputs": [
    {
     "name": "stdout",
     "output_type": "stream",
     "text": [
      "Команда: s\n",
      "Введите номер документа: 214\n",
      "Документ не найден\n"
     ]
    }
   ],
   "source": [
    "def doc_shelf(document_number):\n",
    "    found = False\n",
    "r = input('Команда: ')\n",
    "if r== 's':  \n",
    "    found=False\n",
    "    document_number = input(\"Введите номер документа: \")\n",
    "    for k in directories:\n",
    "        if document_number in directories[k]:\n",
    "            print('Документ хранится на полке:',k)\n",
    "            found=True\n",
    "    if not found: \n",
    "        print ('Документ не найден')\n"
   ]
  },
  {
   "cell_type": "markdown",
   "id": "da4d45ee",
   "metadata": {},
   "source": [
    "Задание 3"
   ]
  },
  {
   "cell_type": "code",
   "execution_count": 77,
   "id": "91118aac",
   "metadata": {},
   "outputs": [
    {
     "name": "stdout",
     "output_type": "stream",
     "text": [
      "Команда: l\n",
      "№: 2207 876234, тип: passport, владелец: Василий Гупкин, полка хранения:1\n",
      "№: 11-2, тип: invoice, владелец: Геннадий Покемонов, полка хранения:1\n",
      "№: 10006, тип: insurance, владелец: Аристарх Павлов, полка хранения:2\n"
     ]
    }
   ],
   "source": [
    "def all_base(documents,value):\n",
    "    for k, v in documents.items():\n",
    "        if value in v:\n",
    "            return k\n",
    "\n",
    "def l():\n",
    "   \n",
    "    found = False\n",
    "o = input('Команда: ')\n",
    "if o == 'l':\n",
    "    found= False\n",
    "    for c in documents:\n",
    "        doc_type = c['type']\n",
    "        number = c['number']\n",
    "        name = c['name']\n",
    "        print('№: {1}, тип: {0}, владелец: {2}, полка хранения:{3}'.format(doc_type, number, name, all_base(directories,number)))\n"
   ]
  },
  {
   "cell_type": "markdown",
   "id": "00cc037c",
   "metadata": {},
   "source": [
    "Задание 4\n"
   ]
  },
  {
   "cell_type": "code",
   "execution_count": 167,
   "id": "23350e8e",
   "metadata": {},
   "outputs": [
    {
     "name": "stdout",
     "output_type": "stream",
     "text": [
      "Введите команду: as\n",
      "Введите номер полки: 1\n",
      "Такая полка уже существует. Текущий перечень полок: ['1', '2', '4']\n"
     ]
    }
   ],
   "source": [
    "def add_shelf():\n",
    "    found = False\n",
    "k = input('Введите команду: ')\n",
    "if k == 'as':        \n",
    "    shelf = input(\"Введите номер полки: \")\n",
    "    for direct in directories.items():\n",
    "        if shelf in direct[0]:\n",
    "            print(f\"Такая полка уже существует. Текущий перечень полок: {list(directories.keys())}\")\n",
    "            break\n",
    "    else:\n",
    "        directories[shelf] = []\n",
    "        print(f\"Полка добавлена. Текущий перечень полок: {list(directories.keys())}\")\n",
    "     \n",
    "add_shelf()"
   ]
  },
  {
   "cell_type": "code",
   "execution_count": 216,
   "id": "0ba4933e",
   "metadata": {},
   "outputs": [
    {
     "name": "stdout",
     "output_type": "stream",
     "text": [
      "Введите команду: as\n",
      "Введите номер полки: 3\n",
      "Полка добавлена. Текущий перечень полок: ['1', '2', '4', '5', '.', '3']\n"
     ]
    }
   ],
   "source": [
    "def add_shelf():\n",
    "    found = False\n",
    "k = input('Введите команду: ')\n",
    "if k == 'as':        \n",
    "    shelf = input(\"Введите номер полки: \")\n",
    "    for direct in directories.items():\n",
    "        if shelf in direct[0]:\n",
    "            print(f\"Такая полка уже существует. Текущий перечень полок: {list(directories.keys())}\")\n",
    "            break\n",
    "    else:\n",
    "        directories[shelf] = []\n",
    "        print(f\"Полка добавлена. Текущий перечень полок: {list(directories.keys())}\")\n",
    "     \n",
    "add_shelf()"
   ]
  },
  {
   "cell_type": "markdown",
   "id": "d5d9d56c",
   "metadata": {},
   "source": [
    "Задание 5"
   ]
  },
  {
   "cell_type": "code",
   "execution_count": 222,
   "id": "c06cdf3b",
   "metadata": {},
   "outputs": [
    {
     "name": "stdout",
     "output_type": "stream",
     "text": [
      "Введите команду:ds\n",
      "Введите номер полки: 9\n",
      "Полка не найдена.Текущий перечень полок: ['1', '2', '4', '5', '.']\n"
     ]
    }
   ],
   "source": [
    "def rem_shelf(dc):\n",
    "    k=input (\"Введите команду:\")\n",
    "    if k=='ds':\n",
    "        found=False\n",
    "    key = input(\"Введите номер полки: \")\n",
    "    try:\n",
    "        if len(dc[key]) == 0:\n",
    "            del dc[key]\n",
    "            return (f\"Полка удалена. Текущий перечень полок: {list(directories.keys())}\")\n",
    "    except:\n",
    "        return (f\"Полка не найдена.Текущий перечень полок: {list(directories.keys())}\")\n",
    "    return (f\"На полке есть документы, удалите их перед удалением полки.Текущий перечень полок: {list(directories.keys())}\")\n",
    "\n",
    "\n",
    "print(rem_shelf(directories))"
   ]
  },
  {
   "cell_type": "code",
   "execution_count": 223,
   "id": "425704ce",
   "metadata": {},
   "outputs": [
    {
     "name": "stdout",
     "output_type": "stream",
     "text": [
      "Введите команду:ds\n",
      "Введите номер полки: 5\n",
      "Полка удалена. Текущий перечень полок: ['1', '2', '4', '.']\n"
     ]
    }
   ],
   "source": [
    "def rem_shelf(dc):\n",
    "    k=input (\"Введите команду:\")\n",
    "    if k=='ds':\n",
    "        found=False\n",
    "    key = input(\"Введите номер полки: \")\n",
    "    try:\n",
    "        if len(dc[key]) == 0:\n",
    "            del dc[key]\n",
    "            return (f\"Полка удалена. Текущий перечень полок: {list(directories.keys())}\")\n",
    "    except:\n",
    "        return (f\"Полка не найдена.Текущий перечень полок: {list(directories.keys())}\")\n",
    "    return (f\"На полке есть документы, удалите их перед удалением полки.Текущий перечень полок: {list(directories.keys())}\")\n",
    "\n",
    "\n",
    "print(rem_shelf(directories))"
   ]
  },
  {
   "cell_type": "code",
   "execution_count": 225,
   "id": "c06773af",
   "metadata": {},
   "outputs": [
    {
     "name": "stdout",
     "output_type": "stream",
     "text": [
      "Введите команду:ds\n",
      "Введите номер полки: 2\n",
      "На полке есть документы, удалите их перед удалением полки.Текущий перечень полок: ['1', '2', '4', '.']\n"
     ]
    }
   ],
   "source": [
    "def rem_shelf(dc):\n",
    "    k=input (\"Введите команду:\")\n",
    "    if k=='ds':\n",
    "        found=False\n",
    "    key = input(\"Введите номер полки: \")\n",
    "    try:\n",
    "        if len(dc[key]) == 0:\n",
    "            del dc[key]\n",
    "            return (f\"Полка удалена. Текущий перечень полок: {list(directories.keys())}\")\n",
    "    except:\n",
    "        return (f\"Полка не найдена.Текущий перечень полок: {list(directories.keys())}\")\n",
    "    return (f\"На полке есть документы, удалите их перед удалением полки.Текущий перечень полок: {list(directories.keys())}\")\n",
    "\n",
    "\n",
    "print(rem_shelf(directories))"
   ]
  }
 ],
 "metadata": {
  "kernelspec": {
   "display_name": "Python 3",
   "language": "python",
   "name": "python3"
  },
  "language_info": {
   "codemirror_mode": {
    "name": "ipython",
    "version": 3
   },
   "file_extension": ".py",
   "mimetype": "text/x-python",
   "name": "python",
   "nbconvert_exporter": "python",
   "pygments_lexer": "ipython3",
   "version": "3.8.8"
  }
 },
 "nbformat": 4,
 "nbformat_minor": 5
}
