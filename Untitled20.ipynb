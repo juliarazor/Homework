{
 "cells": [
  {
   "cell_type": "markdown",
   "id": "7267a34f",
   "metadata": {},
   "source": [
    "Задание 1"
   ]
  },
  {
   "cell_type": "code",
   "execution_count": 7,
   "id": "c2cb2444",
   "metadata": {},
   "outputs": [],
   "source": [
    "from datetime import datetime"
   ]
  },
  {
   "cell_type": "code",
   "execution_count": null,
   "id": "b844e0e4",
   "metadata": {},
   "outputs": [],
   "source": [
    "The Moscow Times - Wednesday, October 2, 2002\n",
    "The Guardian - Friday, 11.10.13\n",
    "Daily News - Thursday, 18 August 1977"
   ]
  },
  {
   "cell_type": "code",
   "execution_count": 17,
   "id": "b860d873",
   "metadata": {},
   "outputs": [
    {
     "name": "stdout",
     "output_type": "stream",
     "text": [
      "2002-10-02 00:00:00\n"
     ]
    }
   ],
   "source": [
    "date1 = datetime.strptime ('Wednesday, October 2, 2002', '%A, %B %d, %Y')\n",
    "print (date1)                        "
   ]
  },
  {
   "cell_type": "code",
   "execution_count": 19,
   "id": "99b90095",
   "metadata": {},
   "outputs": [
    {
     "name": "stdout",
     "output_type": "stream",
     "text": [
      "2013-11-10 00:00:00\n"
     ]
    }
   ],
   "source": [
    "date2 = datetime.strptime('Friday, 11.10.13', '%A, %m.%d.%y')\n",
    "print(date2)"
   ]
  },
  {
   "cell_type": "code",
   "execution_count": 20,
   "id": "fa5d6164",
   "metadata": {},
   "outputs": [
    {
     "name": "stdout",
     "output_type": "stream",
     "text": [
      "1977-08-18 00:00:00\n"
     ]
    }
   ],
   "source": [
    "date3 = datetime.strptime ('Thursday, 18 August 1977', '%A, %d %B %Y')\n",
    "print (date3)"
   ]
  },
  {
   "cell_type": "markdown",
   "id": "9ded924e",
   "metadata": {},
   "source": [
    "Задание 2"
   ]
  },
  {
   "cell_type": "code",
   "execution_count": 46,
   "id": "1f1c8c68",
   "metadata": {},
   "outputs": [],
   "source": [
    "stream = ['2018-04-02', '2018-02-29', '2018-19-02']"
   ]
  },
  {
   "cell_type": "code",
   "execution_count": 25,
   "id": "ae3ab147",
   "metadata": {},
   "outputs": [
    {
     "name": "stdout",
     "output_type": "stream",
     "text": [
      "дата 2018-04-02 корректна: True\n",
      "дата 2018-02-29 некорректна: False\n",
      "дата 2018-19-02 некорректна: False\n"
     ]
    }
   ],
   "source": [
    "def check_date(date):\n",
    "\n",
    "    for date in stream:\n",
    "        try:\n",
    "            valid_date = datetime.strptime(date, '%Y-%m-%d')\n",
    "            print ('дата {} корректна: {}'.format(date, True))\n",
    "        except ValueError:\n",
    "            print ('дата {} некорректна: {}'.format(date, False))\n",
    "        \n",
    "check_date(stream)   "
   ]
  },
  {
   "cell_type": "markdown",
   "id": "ced89214",
   "metadata": {},
   "source": [
    "Задание 3"
   ]
  },
  {
   "cell_type": "code",
   "execution_count": 98,
   "id": "23fc20c5",
   "metadata": {},
   "outputs": [],
   "source": [
    "from datetime import datetime\n",
    "from datetime import timedelta"
   ]
  },
  {
   "cell_type": "code",
   "execution_count": 97,
   "id": "f0144c2e",
   "metadata": {},
   "outputs": [
    {
     "name": "stdout",
     "output_type": "stream",
     "text": [
      "Введите начальную дату в формате YYYY-MM-DD: 2021-04-01\n",
      "Введите дату окончания в формате YYYY-MM-DD: 2021-04-12\n"
     ]
    },
    {
     "data": {
      "text/plain": [
       "['2021-04-02',\n",
       " '2021-04-03',\n",
       " '2021-04-04',\n",
       " '2021-04-05',\n",
       " '2021-04-06',\n",
       " '2021-04-07',\n",
       " '2021-04-08',\n",
       " '2021-04-09',\n",
       " '2021-04-10',\n",
       " '2021-04-11',\n",
       " '2021-04-12',\n",
       " '2021-04-13']"
      ]
     },
     "execution_count": 97,
     "metadata": {},
     "output_type": "execute_result"
    }
   ],
   "source": [
    "start_date=input('Введите начальную дату в формате YYYY-MM-DD: ')\n",
    "end_date=input('Введите дату окончания в формате YYYY-MM-DD: ')\n",
    "def date_range(start, end): \n",
    "    try:\n",
    "        start_datetime=datetime.strptime(start,'%Y-%m-%d')\n",
    "        end_datetime=datetime.strptime(end,'%Y-%m-%d')\n",
    "        days=[]\n",
    "        base_datetime=start_datetime\n",
    "        while base_datetime<=end_datetime:\n",
    "            base_datetime=base_datetime+timedelta(days=1)\n",
    "            print_datetime=datetime.strftime(base_datetime,'%Y-%m-%d')\n",
    "            days.append(print_datetime)\n",
    "            #print(print_datetime)\n",
    "        return(days)\n",
    "    except ValueError:\n",
    "        print('[]')\n",
    "date_range(start_date, end_date)"
   ]
  },
  {
   "cell_type": "code",
   "execution_count": 99,
   "id": "5db2a2a4",
   "metadata": {},
   "outputs": [
    {
     "name": "stdout",
     "output_type": "stream",
     "text": [
      "Введите начальную дату в формате YYYY-MM-DD: 20210404\n",
      "Введите дату окончания в формате YYYY-MM-DD: 20210403\n",
      "[]\n"
     ]
    }
   ],
   "source": [
    "start_date=input('Введите начальную дату в формате YYYY-MM-DD: ')\n",
    "end_date=input('Введите дату окончания в формате YYYY-MM-DD: ')\n",
    "def date_range(start, end): \n",
    "    try:\n",
    "        start_datetime=datetime.strptime(start,'%Y-%m-%d')\n",
    "        end_datetime=datetime.strptime(end,'%Y-%m-%d')\n",
    "        days=[]\n",
    "        base_datetime=start_datetime\n",
    "        while base_datetime<=end_datetime:\n",
    "            base_datetime=base_datetime+timedelta(days=1)\n",
    "            print_datetime=datetime.strftime(base_datetime,'%Y-%m-%d')\n",
    "            days.append(print_datetime)\n",
    "            #print(print_datetime)\n",
    "        return(days)\n",
    "    except ValueError:\n",
    "        print('[]')\n",
    "date_range(start_date, end_date)"
   ]
  },
  {
   "cell_type": "code",
   "execution_count": 100,
   "id": "014ab9e7",
   "metadata": {},
   "outputs": [
    {
     "name": "stdout",
     "output_type": "stream",
     "text": [
      "Введите начальную дату в формате YYYY-MM-DD: 2021-04-07\n",
      "Введите дату окончания в формате YYYY-MM-DD: 2021-03-07\n"
     ]
    },
    {
     "data": {
      "text/plain": [
       "[]"
      ]
     },
     "execution_count": 100,
     "metadata": {},
     "output_type": "execute_result"
    }
   ],
   "source": [
    "start_date=input('Введите начальную дату в формате YYYY-MM-DD: ')\n",
    "end_date=input('Введите дату окончания в формате YYYY-MM-DD: ')\n",
    "def date_range(start, end): \n",
    "    try:\n",
    "        start_datetime=datetime.strptime(start,'%Y-%m-%d')\n",
    "        end_datetime=datetime.strptime(end,'%Y-%m-%d')\n",
    "        days=[]\n",
    "        base_datetime=start_datetime\n",
    "        while base_datetime<=end_datetime:\n",
    "            base_datetime=base_datetime+timedelta(days=1)\n",
    "            print_datetime=datetime.strftime(base_datetime,'%Y-%m-%d')\n",
    "            days.append(print_datetime)\n",
    "            #print(print_datetime)\n",
    "        return(days)\n",
    "    except ValueError:\n",
    "        print('[]')\n",
    "date_range(start_date, end_date)"
   ]
  }
 ],
 "metadata": {
  "kernelspec": {
   "display_name": "Python 3",
   "language": "python",
   "name": "python3"
  },
  "language_info": {
   "codemirror_mode": {
    "name": "ipython",
    "version": 3
   },
   "file_extension": ".py",
   "mimetype": "text/x-python",
   "name": "python",
   "nbconvert_exporter": "python",
   "pygments_lexer": "ipython3",
   "version": "3.8.8"
  }
 },
 "nbformat": 4,
 "nbformat_minor": 5
}
