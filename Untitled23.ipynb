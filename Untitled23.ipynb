{
 "cells": [
  {
   "cell_type": "markdown",
   "id": "ae9027c0",
   "metadata": {},
   "source": [
    "Задание 1"
   ]
  },
  {
   "cell_type": "code",
   "execution_count": 11,
   "id": "576fbb0f",
   "metadata": {},
   "outputs": [
    {
     "name": "stdout",
     "output_type": "stream",
     "text": [
      "Введите номер документа:A156OP98\n",
      "номер A156OP валиден.Регион: 98\n"
     ]
    }
   ],
   "source": [
    "import re\n",
    "\n",
    "def check_documents():\n",
    "\n",
    "    a = input (\"Введите номер документа:\")\n",
    "    r = re.compile(r'([А-СЕНКМНОРСТХУа-сенкмнорстухA-CEHKMHOPCTXYa]{1})(\\d{3})([А-СЕНКМНОРСТХУа-сенкмнорстухA-CEHKMHOPCTXY]{2})(\\d{2,3})')\n",
    "\n",
    "    if r.search(a):\n",
    "            print(f'номер',a[0:6], f'валиден.Регион:',a[6:9])\n",
    "   \n",
    "    else:\n",
    "            print('номер не валиден')\n",
    "        \n",
    "check_documents()    "
   ]
  },
  {
   "cell_type": "code",
   "execution_count": 106,
   "id": "cf6796da",
   "metadata": {},
   "outputs": [
    {
     "name": "stdout",
     "output_type": "stream",
     "text": [
      "Введите номер документа:T147RT45\n",
      "номер не валиден\n"
     ]
    }
   ],
   "source": [
    "import re\n",
    "\n",
    "def check_documents():\n",
    "\n",
    "    a = input (\"Введите номер документа:\")\n",
    "    r = re.compile(r'([А-СЕНКМНОРСТХУа-сенкмнорстухA-CEHKMHOPCTXYa]{1})(\\d{3})([А-СЕНКМНОРСТХУа-сенкмнорстухA-CEHKMHOPCTXY]{2})(\\d{2,3})')\n",
    "\n",
    "    if r.search(a):\n",
    "            print(f'номер',a[0:6], f'валиден.Регион:',a[6:9])\n",
    "   \n",
    "    else:\n",
    "            print('номер не валиден')\n",
    "        \n",
    "check_documents()    "
   ]
  },
  {
   "cell_type": "markdown",
   "id": "45a880e2",
   "metadata": {},
   "source": [
    "Задание 2"
   ]
  },
  {
   "cell_type": "code",
   "execution_count": 13,
   "id": "0baf4291",
   "metadata": {},
   "outputs": [
    {
     "name": "stdout",
     "output_type": "stream",
     "text": [
      "Введите фразу: Напишите функцию функцию, которая будет будет будет будет удалять все все все все последовательные повторы слов из из из из заданной строки строки при помощи регулярных выражений\n",
      "Результат после проверки: Напишите функцию, которая будет удалять все последовательные повторы слов из заданной строки при помощи регулярных выражений\n"
     ]
    }
   ],
   "source": [
    "def double_word():\n",
    "    \n",
    "    phrase = input(\"Введите фразу: \")\n",
    "    check = re.sub(r'\\b(\\w+)(?:\\s+\\1\\b)+',r'\\1',phrase)\n",
    "    \n",
    "    print (f'Результат после проверки:',check)\n",
    "double_word()"
   ]
  },
  {
   "cell_type": "markdown",
   "id": "bef4481e",
   "metadata": {},
   "source": [
    "Задание 3"
   ]
  },
  {
   "cell_type": "code",
   "execution_count": 20,
   "id": "cf1db756",
   "metadata": {},
   "outputs": [
    {
     "name": "stdout",
     "output_type": "stream",
     "text": [
      "Введите фразу: Организация Объединенных Наций\n"
     ]
    },
    {
     "data": {
      "text/plain": [
       "'ООН'"
      ]
     },
     "execution_count": 20,
     "metadata": {},
     "output_type": "execute_result"
    }
   ],
   "source": [
    "def acronym():\n",
    "    k= input(\"Введите фразу: \")\n",
    "    p = re.sub(r'(\\w)\\w+',r'\\1', k)\n",
    "    return (''.join(x[0] for x in k.split()))\n",
    "acronym()    "
   ]
  },
  {
   "cell_type": "markdown",
   "id": "d450b66f",
   "metadata": {},
   "source": [
    "Задание 4"
   ]
  },
  {
   "cell_type": "code",
   "execution_count": 105,
   "id": "89b6e6ff",
   "metadata": {},
   "outputs": [
    {
     "name": "stdout",
     "output_type": "stream",
     "text": [
      "Введите электронные адреса: test@gmail.com, xyz@test.in, test@ya.ru, xyz@mail.ru, xyz@ya.ru’, xyz@gmail.com\n",
      "Результат: {'gmail.com': 2, 'test.in': 1, 'ya.ru': 2, 'mail.ru': 1}\n"
     ]
    }
   ],
   "source": [
    "def mails():\n",
    "    \n",
    "    s = input(\"Введите электронные адреса: \") \n",
    "    res = re.findall(r'\\w+\\.\\w{2,3}',s)\n",
    "    result = {i: res.count(i) for i in res}\n",
    "    print(f'Результат:',result)\n",
    "\n",
    "mails()"
   ]
  },
  {
   "cell_type": "code",
   "execution_count": null,
   "id": "178e9cff",
   "metadata": {},
   "outputs": [],
   "source": []
  }
 ],
 "metadata": {
  "kernelspec": {
   "display_name": "Python 3",
   "language": "python",
   "name": "python3"
  },
  "language_info": {
   "codemirror_mode": {
    "name": "ipython",
    "version": 3
   },
   "file_extension": ".py",
   "mimetype": "text/x-python",
   "name": "python",
   "nbconvert_exporter": "python",
   "pygments_lexer": "ipython3",
   "version": "3.8.8"
  }
 },
 "nbformat": 4,
 "nbformat_minor": 5
}
