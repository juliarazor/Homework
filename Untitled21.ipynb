{
 "cells": [
  {
   "cell_type": "code",
   "execution_count": 19,
   "id": "225bba74",
   "metadata": {},
   "outputs": [],
   "source": [
    "documents = [\n",
    "{'type': 'passport', 'number': '2207 876234', 'name': 'Василий Гупкин'},\n",
    "{'type': 'invoice', 'number': '11-2', 'name': 'Геннадий Покемонов'},\n",
    "{'type': 'insurance', 'number': '10006', 'name': 'Аристарх Павлов'}\n",
    "]"
   ]
  },
  {
   "cell_type": "code",
   "execution_count": 20,
   "id": "8d967143",
   "metadata": {},
   "outputs": [],
   "source": [
    "directories = {\n",
    "'1': ['2207 876234', '11-2'],\n",
    "'2': ['10006'],\n",
    "'3': []\n",
    "}"
   ]
  },
  {
   "cell_type": "code",
   "execution_count": null,
   "id": "a54bf22a",
   "metadata": {},
   "outputs": [],
   "source": [
    "def doc_owner(documents):\n",
    "     \n",
    "    found = False\n",
    "\n",
    "    num = input(\"Введите номер документа:\")\n",
    "    for dic in documents:\n",
    "        if \"number\" in dic.keys() and dic[\"number\"] == num:\n",
    "            print(\"Владелец документа:\",(dic[\"name\"]))\n",
    "            found = True\n",
    "\n",
    "    if not found:\n",
    "        print(\"Документ не найден в базе\")\n",
    "\n",
    "doc_owner(documents) "
   ]
  },
  {
   "cell_type": "code",
   "execution_count": null,
   "id": "b40c9781",
   "metadata": {},
   "outputs": [],
   "source": [
    "def doc_shelf(document_number):\n",
    "  \n",
    "    found=False\n",
    "    document_number = input(\"Введите номер документа: \")\n",
    "    for k in directories:\n",
    "        if document_number in directories[k]:\n",
    "            print('Документ хранится на полке:',k)\n",
    "            found=True\n",
    "    if not found: \n",
    "        print ('Документ не найден')\n",
    "doc_shelf(documents)"
   ]
  },
  {
   "cell_type": "code",
   "execution_count": null,
   "id": "72a8b73d",
   "metadata": {},
   "outputs": [],
   "source": [
    "def add_shelf(directories):\n",
    "   \n",
    "    shelf = input(\"Введите номер полки: \")\n",
    "    for direct in directories.items():\n",
    "        if shelf in direct[0]:\n",
    "            print(f\"Такая полка уже существует. Текущий перечень полок: {list(directories.keys())}\")\n",
    "            break\n",
    "    else:\n",
    "        directories[shelf] = []\n",
    "        print(f\"Полка добавлена. Текущий перечень полок: {list(directories.keys())}\")\n",
    "     \n",
    "add_shelf(directories)"
   ]
  },
  {
   "cell_type": "code",
   "execution_count": null,
   "id": "173c48e9",
   "metadata": {},
   "outputs": [],
   "source": [
    "def all_base(documents,value):\n",
    "    for k, v in documents.items():\n",
    "        if value in v:\n",
    "            return k\n",
    "\n",
    "def l(documents_list,directories):\n",
    "   \n",
    "\n",
    "    for c in documents:\n",
    "        doc_type = c['type']\n",
    "        number = c['number']\n",
    "        name = c['name']\n",
    "        print('№: {1}, тип: {0}, владелец: {2}, полка хранения:{3}'.format(doc_type, number, name, all_base(directories,number)))\n",
    "l(documents,directories)"
   ]
  },
  {
   "cell_type": "code",
   "execution_count": null,
   "id": "c2c58079",
   "metadata": {},
   "outputs": [],
   "source": [
    "def rem_shelf(dc):\n",
    "   \n",
    "    found=False\n",
    "    key = input(\"Введите номер полки: \")\n",
    "    try:\n",
    "        if len(dc[key]) == 0:\n",
    "            del dc[key]\n",
    "            return (f\"Полка удалена. Текущий перечень полок: {list(directories.keys())}\")\n",
    "    except:\n",
    "        return (f\"Полка не найдена.Текущий перечень полок: {list(directories.keys())}\")\n",
    "    return (f\"На полке есть документы, удалите их перед удалением полки.Текущий перечень полок: {list(directories.keys())}\")\n",
    "\n",
    "\n",
    "print(rem_shelf(directories))"
   ]
  },
  {
   "cell_type": "code",
   "execution_count": 26,
   "id": "0ba57c1d",
   "metadata": {},
   "outputs": [
    {
     "name": "stdout",
     "output_type": "stream",
     "text": [
      "Введите команду:p\n",
      "Введите номер документа:11-2\n",
      "Владелец документа: Геннадий Покемонов\n",
      "Введите команду:p\n",
      "Введите номер документа:1456457\n",
      "Документ не найден в базе\n",
      "Введите команду:s\n",
      "Введите номер документа: 11-2\n",
      "Документ хранится на полке: 1\n",
      "Введите команду:s\n",
      "Введите номер документа: 1654\n",
      "Документ не найден\n",
      "Введите команду:l\n",
      "№: 2207 876234, тип: passport, владелец: Василий Гупкин, полка хранения:1\n",
      "№: 11-2, тип: invoice, владелец: Геннадий Покемонов, полка хранения:1\n",
      "№: 10006, тип: insurance, владелец: Аристарх Павлов, полка хранения:2\n",
      "Введите команду:as\n",
      "Введите номер полки: 6\n",
      "Полка добавлена. Текущий перечень полок: ['1', '2', '3', '6']\n",
      "Введите команду:as\n",
      "Введите номер полки: 1\n",
      "Такая полка уже существует. Текущий перечень полок: ['1', '2', '3', '6']\n",
      "Введите команду:ds\n",
      "Введите номер полки: 6\n",
      "Полка удалена. Текущий перечень полок: ['1', '2', '3']\n",
      "Введите команду:ds\n",
      "Введите номер полки: 4\n",
      "Полка не найдена.Текущий перечень полок: ['1', '2', '3']\n",
      "Введите команду:q\n",
      "До свидания\n"
     ]
    }
   ],
   "source": [
    "def main():\n",
    "    while True:\n",
    "        command=input(\"Введите команду:\")\n",
    "        if command =='p':\n",
    "             doc_owner(documents)\n",
    "        elif command =='s':\n",
    "             doc_shelf(documents) \n",
    "        elif command == 'l':\n",
    "            l(documents,directories)\n",
    "        elif command == 'as':\n",
    "             add_shelf(directories)\n",
    "        elif command == 'ds':\n",
    "            print(rem_shelf(directories))\n",
    "        elif command =='q':\n",
    "            print('До свидания')\n",
    "            break   \n",
    "                \n",
    "main()        "
   ]
  },
  {
   "cell_type": "code",
   "execution_count": null,
   "id": "66a898df",
   "metadata": {},
   "outputs": [],
   "source": []
  }
 ],
 "metadata": {
  "kernelspec": {
   "display_name": "Python 3",
   "language": "python",
   "name": "python3"
  },
  "language_info": {
   "codemirror_mode": {
    "name": "ipython",
    "version": 3
   },
   "file_extension": ".py",
   "mimetype": "text/x-python",
   "name": "python",
   "nbconvert_exporter": "python",
   "pygments_lexer": "ipython3",
   "version": "3.8.8"
  }
 },
 "nbformat": 4,
 "nbformat_minor": 5
}
