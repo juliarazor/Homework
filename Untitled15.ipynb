{
 "cells": [
  {
   "cell_type": "code",
   "execution_count": null,
   "id": "e1a16d3c",
   "metadata": {},
   "outputs": [],
   "source": [
    "Задание 1"
   ]
  },
  {
   "cell_type": "code",
   "execution_count": 337,
   "id": "c93fd413",
   "metadata": {},
   "outputs": [],
   "source": [
    "documents = [\n",
    "{'type': 'passport', 'number': '2207 876234', 'name': 'Василий Гупкин'},\n",
    "{'type': 'invoice', 'number': '11-2', 'name': 'Геннадий Покемонов'},\n",
    "{'type': 'insurance', 'number': '10006', 'name': 'Аристарх Павлов'}\n",
    "]"
   ]
  },
  {
   "cell_type": "code",
   "execution_count": 3,
   "id": "fda705bc",
   "metadata": {},
   "outputs": [
    {
     "name": "stdout",
     "output_type": "stream",
     "text": [
      "Введите номер документа:11-2\n",
      "Владелец документа: Геннадий Покемонов\n"
     ]
    }
   ],
   "source": [
    "def p():\n",
    " \n",
    "    found = False\n",
    "\n",
    "    num = input(\"Введите номер документа:\")\n",
    "    for dic in documents:\n",
    "        if \"number\" in dic.keys() and dic[\"number\"] == num:\n",
    "            print(\"Владелец документа:\",(dic[\"name\"]))\n",
    "            found = True\n",
    "\n",
    "    if not found:\n",
    "        print(\"Документ не найден в базе\")\n",
    "\n",
    "p() "
   ]
  },
  {
   "cell_type": "code",
   "execution_count": 5,
   "id": "941f785d",
   "metadata": {},
   "outputs": [
    {
     "name": "stdout",
     "output_type": "stream",
     "text": [
      "Введите номер документа:132\n",
      "Документ не найден в базе\n"
     ]
    }
   ],
   "source": [
    "def p():\n",
    " \n",
    "    found = False\n",
    "\n",
    "    num = input(\"Введите номер документа:\")\n",
    "    for dic in documents:\n",
    "        if \"number\" in dic.keys() and dic[\"number\"] == num:\n",
    "            print(\"Владелец документа:\",(dic[\"name\"]))\n",
    "            found = True\n",
    "\n",
    "    if not found:\n",
    "        print(\"Документ не найден в базе\")\n",
    "\n",
    "p() "
   ]
  },
  {
   "cell_type": "markdown",
   "id": "d5400c2a",
   "metadata": {},
   "source": [
    "Задание 2"
   ]
  },
  {
   "cell_type": "code",
   "execution_count": 338,
   "id": "0b810d07",
   "metadata": {},
   "outputs": [],
   "source": [
    "directories = {\n",
    "'1': ['2207 876234', '11-2'],\n",
    "'2': ['10006'],\n",
    "'3': []\n",
    "}\n"
   ]
  },
  {
   "cell_type": "code",
   "execution_count": 377,
   "id": "e438a858",
   "metadata": {},
   "outputs": [
    {
     "name": "stdout",
     "output_type": "stream",
     "text": [
      "Номер документа: 11-2\n",
      "Документ хранится на полке: 1\n"
     ]
    }
   ],
   "source": [
    "def s():\n",
    " \n",
    "    num = input('Номер документа: ')\n",
    "    dir = list(filter(lambda el: num in el[1], directories.items()))[0]\n",
    "    print(f\"Документ хранится на полке:\",dir[0])\n",
    "    \n",
    "    \n",
    "    \n",
    "        \n",
    "        \n",
    "s()    "
   ]
  },
  {
   "cell_type": "code",
   "execution_count": null,
   "id": "c8282592",
   "metadata": {},
   "outputs": [],
   "source": [
    "Задание 3"
   ]
  },
  {
   "cell_type": "code",
   "execution_count": 374,
   "id": "a47a4e1b",
   "metadata": {},
   "outputs": [
    {
     "name": "stdout",
     "output_type": "stream",
     "text": [
      "Команда: l\n",
      "№:2207 876234, тип:passport,владелец:Василий Гупкин ,полка хранения: 2\n",
      "№:11-2, тип:invoice,владелец:Геннадий Покемонов ,полка хранения: 2\n",
      "№:10006, тип:insurance,владелец:Аристарх Павлов ,полка хранения: 2\n"
     ]
    }
   ],
   "source": [
    "def get_directory(numbelr):\n",
    "    return list(filter(lambda e: number in e[1], directories.items()))[0]\n",
    "\n",
    "p = input('Команда: ')\n",
    "if p == 'l':\n",
    "    for el in documents:\n",
    "        print(f\"№:{el['number']}, тип:{el['type']},владелец:{el['name']}\",f\",полка хранения: {get_directory(person['number'])[0]}\")\n",
    "        "
   ]
  },
  {
   "cell_type": "markdown",
   "id": "e7c0c79f",
   "metadata": {},
   "source": [
    "Задание 4"
   ]
  },
  {
   "cell_type": "code",
   "execution_count": null,
   "id": "8f2c3894",
   "metadata": {},
   "outputs": [],
   "source": [
    "def ads():\n",
    "   \n",
    "    shelf = input(\"Введите номер полки: \")\n",
    "    for direct in directories.items():\n",
    "        if shelf in direct[0]:\n",
    "            print(f\"Такая полка уже существует. Текущий перечень полок: {list(directories.keys())}\")\n",
    "            break\n",
    "    else:\n",
    "        directories[shelf] = []\n",
    "        print(f\"Полка добавлена. Текущий перечень полок: {list(directories.keys())}\")\n",
    "     \n",
    "ads()"
   ]
  },
  {
   "cell_type": "code",
   "execution_count": 383,
   "id": "ab15a55d",
   "metadata": {},
   "outputs": [
    {
     "name": "stdout",
     "output_type": "stream",
     "text": [
      "Введите номер полки: 4\n",
      "Полка добавлена. Текущий перечень полок: ['1', '2', '3', '4']\n"
     ]
    }
   ],
   "source": [
    "def ads():\n",
    "    shelf = input(\"Введите номер полки: \")\n",
    "    for direct in directories.items():\n",
    "        if shelf in direct[0]:\n",
    "            print(f\"Такая полка уже существует. Текущий перечень полок: {list(directories.keys())}\")\n",
    "            break\n",
    "    else:\n",
    "        directories[shelf] = []\n",
    "        print(f\"Полка добавлена. Текущий перечень полок: {list(directories.keys())}\")\n",
    "     \n",
    "ads()"
   ]
  },
  {
   "cell_type": "code",
   "execution_count": null,
   "id": "79b901b8",
   "metadata": {},
   "outputs": [],
   "source": []
  }
 ],
 "metadata": {
  "kernelspec": {
   "display_name": "Python 3",
   "language": "python",
   "name": "python3"
  },
  "language_info": {
   "codemirror_mode": {
    "name": "ipython",
    "version": 3
   },
   "file_extension": ".py",
   "mimetype": "text/x-python",
   "name": "python",
   "nbconvert_exporter": "python",
   "pygments_lexer": "ipython3",
   "version": "3.8.8"
  }
 },
 "nbformat": 4,
 "nbformat_minor": 5
}
