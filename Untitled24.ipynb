{
 "cells": [
  {
   "cell_type": "markdown",
   "id": "c4466cd1",
   "metadata": {},
   "source": [
    "Задание 1"
   ]
  },
  {
   "cell_type": "code",
   "execution_count": 2,
   "id": "7a824135",
   "metadata": {},
   "outputs": [],
   "source": [
    "import numpy as np"
   ]
  },
  {
   "cell_type": "code",
   "execution_count": 26,
   "id": "fc08fd3d",
   "metadata": {},
   "outputs": [
    {
     "data": {
      "text/plain": [
       "array([9, 8, 7, 6, 5, 4, 3, 2, 1, 0])"
      ]
     },
     "execution_count": 26,
     "metadata": {},
     "output_type": "execute_result"
    }
   ],
   "source": [
    "x = np.arange(0,10)\n",
    "x[::-1].sort()\n",
    "x"
   ]
  },
  {
   "cell_type": "code",
   "execution_count": null,
   "id": "b84362f7",
   "metadata": {},
   "outputs": [],
   "source": [
    "Задание 2"
   ]
  },
  {
   "cell_type": "code",
   "execution_count": 36,
   "id": "997b3263",
   "metadata": {},
   "outputs": [
    {
     "name": "stdout",
     "output_type": "stream",
     "text": [
      "12\n",
      "[[12  0  0  0  0  0  0  0  0  0  0  0]\n",
      " [ 0 11  0  0  0  0  0  0  0  0  0  0]\n",
      " [ 0  0 10  0  0  0  0  0  0  0  0  0]\n",
      " [ 0  0  0  9  0  0  0  0  0  0  0  0]\n",
      " [ 0  0  0  0  8  0  0  0  0  0  0  0]\n",
      " [ 0  0  0  0  0  7  0  0  0  0  0  0]\n",
      " [ 0  0  0  0  0  0  6  0  0  0  0  0]\n",
      " [ 0  0  0  0  0  0  0  5  0  0  0  0]\n",
      " [ 0  0  0  0  0  0  0  0  4  0  0  0]\n",
      " [ 0  0  0  0  0  0  0  0  0  3  0  0]\n",
      " [ 0  0  0  0  0  0  0  0  0  0  2  0]\n",
      " [ 0  0  0  0  0  0  0  0  0  0  0  1]]\n",
      "сумма: 78\n"
     ]
    }
   ],
   "source": [
    "n=int(input())\n",
    "matrix=np.diag(np.arange(n,0,-1))\n",
    "print(matrix)\n",
    "print('сумма: {}'.format(sum(sum(matrix))))"
   ]
  },
  {
   "cell_type": "code",
   "execution_count": 43,
   "id": "158fdbf0",
   "metadata": {},
   "outputs": [
    {
     "name": "stdout",
     "output_type": "stream",
     "text": [
      "[[ 2  0  0  0]\n",
      " [ 0 17  0  0]\n",
      " [ 0  0 32  0]\n",
      " [ 0  0  0 47]]\n",
      "сумма: 98\n"
     ]
    }
   ],
   "source": [
    "matrix=np.diag(np.arange(2,50,15),k=0)\n",
    "print(matrix)\n",
    "print('сумма: {}'.format(sum(sum(matrix))))"
   ]
  },
  {
   "cell_type": "code",
   "execution_count": 51,
   "id": "a2917e48",
   "metadata": {},
   "outputs": [
    {
     "name": "stdout",
     "output_type": "stream",
     "text": [
      "[[132   0   0 ...   0   0   0]\n",
      " [  0 131   0 ...   0   0   0]\n",
      " [  0   0 130 ...   0   0   0]\n",
      " ...\n",
      " [  0   0   0 ...   3   0   0]\n",
      " [  0   0   0 ...   0   2   0]\n",
      " [  0   0   0 ...   0   0   1]]\n",
      "сумма: 8778\n"
     ]
    }
   ],
   "source": [
    "matrix=np.diag(np.arange(132,0,-1))\n",
    "print(matrix)\n",
    "print('сумма: {}'.format(sum(sum(matrix))))"
   ]
  },
  {
   "cell_type": "markdown",
   "id": "0b05d67b",
   "metadata": {},
   "source": [
    "Задание 3"
   ]
  },
  {
   "cell_type": "code",
   "execution_count": null,
   "id": "d9024180",
   "metadata": {},
   "outputs": [],
   "source": [
    "4x + 2y + z = 4\n",
    "x + 3y = 12\n",
    "5y + 4z = -3"
   ]
  },
  {
   "cell_type": "code",
   "execution_count": 9,
   "id": "039ae17d",
   "metadata": {},
   "outputs": [],
   "source": [
    "a = np.array([[4,3,1],[1,3,0],[0,5,4]])"
   ]
  },
  {
   "cell_type": "code",
   "execution_count": 10,
   "id": "9c06ea9d",
   "metadata": {},
   "outputs": [],
   "source": [
    "b = np.array([4,12,-3])"
   ]
  },
  {
   "cell_type": "code",
   "execution_count": 11,
   "id": "7df78cc1",
   "metadata": {},
   "outputs": [],
   "source": [
    "from numpy import linalg"
   ]
  },
  {
   "cell_type": "code",
   "execution_count": 12,
   "id": "447193f4",
   "metadata": {},
   "outputs": [
    {
     "data": {
      "text/plain": [
       "array([-0.65853659,  4.2195122 , -6.02439024])"
      ]
     },
     "execution_count": 12,
     "metadata": {},
     "output_type": "execute_result"
    }
   ],
   "source": [
    "linalg.solve(a,b)"
   ]
  },
  {
   "cell_type": "code",
   "execution_count": 14,
   "id": "e30985e6",
   "metadata": {},
   "outputs": [
    {
     "data": {
      "text/plain": [
       "True"
      ]
     },
     "execution_count": 14,
     "metadata": {},
     "output_type": "execute_result"
    }
   ],
   "source": [
    "np.allclose(np.dot(a,linalg.solve(a,b)),b)"
   ]
  },
  {
   "cell_type": "markdown",
   "id": "5986c51d",
   "metadata": {},
   "source": [
    "Задание 4"
   ]
  },
  {
   "cell_type": "code",
   "execution_count": 3,
   "id": "9b6d8a4d",
   "metadata": {},
   "outputs": [],
   "source": [
    "users_stats = np.array(\n",
    "    [\n",
    "        [2, 1, 0, 0, 0, 0],\n",
    "        [1, 1, 2, 1, 0, 0],\n",
    "        [2, 0, 1, 0, 0, 0],\n",
    "        [1, 1, 2, 1, 0, 1],\n",
    "        [0, 0, 1, 2, 0, 0],\n",
    "        [0, 0, 0, 0, 0, 5],\n",
    "        [1, 0, 0, 0, 0, 0],\n",
    "        [0, 1, 1, 0, 0, 0],\n",
    "        [0, 0, 0, 1, 1, 3],\n",
    "        [1, 0, 0, 2, 1, 4]\n",
    "    ], \n",
    "    np.int32\n",
    ")"
   ]
  },
  {
   "cell_type": "code",
   "execution_count": 4,
   "id": "8439c690",
   "metadata": {},
   "outputs": [],
   "source": [
    "next_user_stats = np.array([0, 1, 2, 0, 0, 0])"
   ]
  },
  {
   "cell_type": "code",
   "execution_count": 8,
   "id": "4d989d68",
   "metadata": {},
   "outputs": [],
   "source": [
    "from numpy import apply_along_axis"
   ]
  },
  {
   "cell_type": "code",
   "execution_count": 43,
   "id": "9c9743c8",
   "metadata": {},
   "outputs": [
    {
     "name": "stdout",
     "output_type": "stream",
     "text": [
      "Самый похожий пользователь: 7\n"
     ]
    }
   ],
   "source": [
    "def cosine( users_stats, next_user_stats ):\n",
    "    \n",
    "    users_stats_Length = np.linalg.norm( users_stats )\n",
    "    next_user_stats_Length = np.linalg.norm( next_user_stats )\n",
    "    \n",
    "    return np.dot( users_stats, next_user_stats ) / ( users_stats_Length * next_user_stats_Length )\n",
    "rows = np.array([cosine(row, next_user_stats) for row in users_stats])\n",
    "best_user = np.argmax(rows)\n",
    "print(f'Самый похожий пользователь:',(best_user))\n",
    "\n"
   ]
  },
  {
   "cell_type": "code",
   "execution_count": null,
   "id": "debfa2dc",
   "metadata": {},
   "outputs": [],
   "source": []
  }
 ],
 "metadata": {
  "kernelspec": {
   "display_name": "Python 3",
   "language": "python",
   "name": "python3"
  },
  "language_info": {
   "codemirror_mode": {
    "name": "ipython",
    "version": 3
   },
   "file_extension": ".py",
   "mimetype": "text/x-python",
   "name": "python",
   "nbconvert_exporter": "python",
   "pygments_lexer": "ipython3",
   "version": "3.8.8"
  }
 },
 "nbformat": 4,
 "nbformat_minor": 5
}
