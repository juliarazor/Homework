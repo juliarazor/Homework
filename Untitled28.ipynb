{
 "cells": [
  {
   "cell_type": "markdown",
   "id": "e19b96c8",
   "metadata": {},
   "source": [
    "Задание 1"
   ]
  },
  {
   "cell_type": "code",
   "execution_count": 12,
   "id": "dd523d5c",
   "metadata": {},
   "outputs": [],
   "source": [
    "import pandas as pd"
   ]
  },
  {
   "cell_type": "code",
   "execution_count": 3,
   "id": "97da7291",
   "metadata": {},
   "outputs": [],
   "source": [
    "abc = ds=pd.read_csv('ratings.csv', sep = ',')\n",
    "abc1 = abc[abc['rating']==5.0].groupby('movieId').count().sort_values('rating',ascending = False)\n"
   ]
  },
  {
   "cell_type": "code",
   "execution_count": 4,
   "id": "d67e43fe",
   "metadata": {},
   "outputs": [],
   "source": [
    "movies = pd.read_csv('movies.csv',sep = ',')"
   ]
  },
  {
   "cell_type": "code",
   "execution_count": 5,
   "id": "91a98bbc",
   "metadata": {},
   "outputs": [
    {
     "name": "stdout",
     "output_type": "stream",
     "text": [
      "   movieId                             title\n",
      "0      318  Shawshank Redemption, The (1994)\n"
     ]
    }
   ],
   "source": [
    "abc2 = abc1.merge(movies,on = 'movieId',how = 'left')\n",
    "print(abc2[['movieId','title']].head(1))"
   ]
  },
  {
   "cell_type": "markdown",
   "id": "d1729576",
   "metadata": {},
   "source": [
    "Задание 2"
   ]
  },
  {
   "cell_type": "code",
   "execution_count": 79,
   "id": "7fcfbcd3",
   "metadata": {},
   "outputs": [
    {
     "name": "stdout",
     "output_type": "stream",
     "text": [
      "Cуммарное потребление: 240580.0\n"
     ]
    }
   ],
   "source": [
    "ds=pd.read_csv('power.csv', sep = ',')\n",
    "ds2=ds[(ds['year']>=2005)&(ds['year']<=2010)&(ds['quantity']>0)]\n",
    "ds3=ds2[ds2.category.isin([4,12,21])]\n",
    "filtered_countries_est = ds3[(ds3['country']=='Estonia')]['quantity'].sum()\n",
    "filtered_countries_lit = ds3[(ds3['country']=='Lithuania')]['quantity'].sum()\n",
    "filtered_countries_lat = ds3[(ds3['country']=='Latvia')]['quantity'].sum()\n",
    "print(f'Cуммарное потребление: {filtered_countries_lat+filtered_countries_est+filtered_countries_lit}')\n",
    "\n"
   ]
  },
  {
   "cell_type": "markdown",
   "id": "e397d439",
   "metadata": {},
   "source": [
    "Задание 3"
   ]
  },
  {
   "cell_type": "code",
   "execution_count": 11,
   "id": "1932c342",
   "metadata": {},
   "outputs": [
    {
     "data": {
      "text/html": [
       "<div>\n",
       "<style scoped>\n",
       "    .dataframe tbody tr th:only-of-type {\n",
       "        vertical-align: middle;\n",
       "    }\n",
       "\n",
       "    .dataframe tbody tr th {\n",
       "        vertical-align: top;\n",
       "    }\n",
       "\n",
       "    .dataframe thead th {\n",
       "        text-align: right;\n",
       "    }\n",
       "</style>\n",
       "<table border=\"1\" class=\"dataframe\">\n",
       "  <thead>\n",
       "    <tr style=\"text-align: right;\">\n",
       "      <th></th>\n",
       "      <th>0</th>\n",
       "      <th>1</th>\n",
       "      <th>2</th>\n",
       "      <th>3</th>\n",
       "    </tr>\n",
       "  </thead>\n",
       "  <tbody>\n",
       "    <tr>\n",
       "      <th>0</th>\n",
       "      <td>NaN</td>\n",
       "      <td>NaN</td>\n",
       "      <td>Item #</td>\n",
       "      <td>Adjustment to Books</td>\n",
       "    </tr>\n",
       "    <tr>\n",
       "      <th>1</th>\n",
       "      <td>Bank balance</td>\n",
       "      <td>$320,000</td>\n",
       "      <td>1</td>\n",
       "      <td>NaN</td>\n",
       "    </tr>\n",
       "    <tr>\n",
       "      <th>2</th>\n",
       "      <td>- Check printing charge</td>\n",
       "      <td>-200</td>\n",
       "      <td>2</td>\n",
       "      <td>Debit expense, credit cash</td>\n",
       "    </tr>\n",
       "    <tr>\n",
       "      <th>3</th>\n",
       "      <td>- Service charge</td>\n",
       "      <td>-150</td>\n",
       "      <td>3</td>\n",
       "      <td>Debit expense, credit cash</td>\n",
       "    </tr>\n",
       "    <tr>\n",
       "      <th>4</th>\n",
       "      <td>- NSF fee</td>\n",
       "      <td>-10</td>\n",
       "      <td>4</td>\n",
       "      <td>Debit expense, credit cash</td>\n",
       "    </tr>\n",
       "    <tr>\n",
       "      <th>5</th>\n",
       "      <td>- NSF deposit rejected</td>\n",
       "      <td>- 500</td>\n",
       "      <td>4</td>\n",
       "      <td>Debit receivable, credit cash</td>\n",
       "    </tr>\n",
       "    <tr>\n",
       "      <th>6</th>\n",
       "      <td>+ Interest income</td>\n",
       "      <td>+ 30</td>\n",
       "      <td>5</td>\n",
       "      <td>Debit cash, credit interest income</td>\n",
       "    </tr>\n",
       "    <tr>\n",
       "      <th>7</th>\n",
       "      <td>- Uncleared checks</td>\n",
       "      <td>- 80,000</td>\n",
       "      <td>6</td>\n",
       "      <td>None</td>\n",
       "    </tr>\n",
       "    <tr>\n",
       "      <th>8</th>\n",
       "      <td>+ Deposits in transit</td>\n",
       "      <td>+ 25,000</td>\n",
       "      <td>7</td>\n",
       "      <td>None</td>\n",
       "    </tr>\n",
       "    <tr>\n",
       "      <th>9</th>\n",
       "      <td>Book balance</td>\n",
       "      <td>$264,170</td>\n",
       "      <td>NaN</td>\n",
       "      <td>NaN</td>\n",
       "    </tr>\n",
       "  </tbody>\n",
       "</table>\n",
       "</div>"
      ],
      "text/plain": [
       "                         0         1       2  \\\n",
       "0                      NaN       NaN  Item #   \n",
       "1             Bank balance  $320,000       1   \n",
       "2  - Check printing charge      -200       2   \n",
       "3         - Service charge      -150       3   \n",
       "4                - NSF fee       -10       4   \n",
       "5   - NSF deposit rejected     - 500       4   \n",
       "6        + Interest income      + 30       5   \n",
       "7       - Uncleared checks  - 80,000       6   \n",
       "8    + Deposits in transit  + 25,000       7   \n",
       "9             Book balance  $264,170     NaN   \n",
       "\n",
       "                                    3  \n",
       "0                 Adjustment to Books  \n",
       "1                                 NaN  \n",
       "2          Debit expense, credit cash  \n",
       "3          Debit expense, credit cash  \n",
       "4          Debit expense, credit cash  \n",
       "5       Debit receivable, credit cash  \n",
       "6  Debit cash, credit interest income  \n",
       "7                                None  \n",
       "8                                None  \n",
       "9                                 NaN  "
      ]
     },
     "execution_count": 11,
     "metadata": {},
     "output_type": "execute_result"
    }
   ],
   "source": [
    "datanew = pd.read_html('https://www.accountingtools.com/articles/2017/5/17/bank-reconciliation',encoding = 'utf-8')[0]\n",
    "datanew.head(20)"
   ]
  },
  {
   "cell_type": "code",
   "execution_count": null,
   "id": "8c7ed8e4",
   "metadata": {},
   "outputs": [],
   "source": []
  }
 ],
 "metadata": {
  "kernelspec": {
   "display_name": "Python 3",
   "language": "python",
   "name": "python3"
  },
  "language_info": {
   "codemirror_mode": {
    "name": "ipython",
    "version": 3
   },
   "file_extension": ".py",
   "mimetype": "text/x-python",
   "name": "python",
   "nbconvert_exporter": "python",
   "pygments_lexer": "ipython3",
   "version": "3.8.8"
  }
 },
 "nbformat": 4,
 "nbformat_minor": 5
}
