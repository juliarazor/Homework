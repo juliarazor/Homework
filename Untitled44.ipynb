{
 "cells": [
  {
   "cell_type": "code",
   "execution_count": 28,
   "id": "6d8d8a5a",
   "metadata": {},
   "outputs": [],
   "source": [
    "import numpy as np"
   ]
  },
  {
   "cell_type": "code",
   "execution_count": 29,
   "id": "25358beb",
   "metadata": {},
   "outputs": [],
   "source": [
    "games = 120   \n",
    "profit = 0      \n",
    "profit_list = []\n",
    "for x in range(games):\n",
    "    trials = 1320000\n",
    "    result = 0      \n",
    "    results_list = []\n",
    "for i in range(trials):\n",
    "    random_score = np.random.randint(0, 1000) \n",
    "    if random_score == 999:            \n",
    "            results_list.append(100)\n",
    "    elif random_score == 777:\n",
    "            results_list.append(200)\n",
    "    elif random_score == 555:\n",
    "            results_list.append(50)\n",
    "    elif random_score == 333:\n",
    "            results_list.append(15)\n",
    "    elif random_score == 111:\n",
    "            results_list.append(10)\n",
    "    elif random_score % 100 == 77:\n",
    "            results_list.append(5)\n",
    "    elif random_score % 10 == 7:\n",
    "            results_list.append(3)    \n",
    "    elif random_score % 100 == 0:\n",
    "            results_list.append(5)\n",
    "    elif random_score % 10 == 0:\n",
    "            results_list.append(1)\n",
    "    else:\n",
    "            None\n",
    "            result += 1\n",
    "    "
   ]
  },
  {
   "cell_type": "code",
   "execution_count": 30,
   "id": "9c1affa4",
   "metadata": {},
   "outputs": [],
   "source": [
    "profit = sum(results_list) - trials\n",
    "profit_list.append(profit)\n",
    "profit += 1 "
   ]
  },
  {
   "cell_type": "code",
   "execution_count": 31,
   "id": "7b4f784d",
   "metadata": {},
   "outputs": [
    {
     "name": "stdout",
     "output_type": "stream",
     "text": [
      "Игра, в среднем, не выгодна. В среднем проигрыш составляет: -2026 руб. c 1320000 руб.\n"
     ]
    }
   ],
   "source": [
    "overall_results = round(sum(profit_list) / games)\n",
    "if overall_results > 0:\n",
    "    print('Игра, в среднем, выгодна. В среднем выигрыш составляет:',overall_results , 'руб. c', trials, 'руб.')\n",
    "else:\n",
    "    print('Игра, в среднем, не выгодна. В среднем проигрыш составляет:',overall_results, 'руб. c', trials, 'руб.')"
   ]
  },
  {
   "cell_type": "code",
   "execution_count": null,
   "id": "79ff3bba",
   "metadata": {},
   "outputs": [],
   "source": []
  },
  {
   "cell_type": "code",
   "execution_count": null,
   "id": "2e588070",
   "metadata": {},
   "outputs": [],
   "source": []
  }
 ],
 "metadata": {
  "kernelspec": {
   "display_name": "Python 3",
   "language": "python",
   "name": "python3"
  }
 },
 "nbformat": 4,
 "nbformat_minor": 5
}
