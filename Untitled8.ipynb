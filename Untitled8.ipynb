{
 "cells": [
  {
   "cell_type": "code",
   "execution_count": 104,
   "id": "778eb008",
   "metadata": {},
   "outputs": [
    {
     "name": "stdout",
     "output_type": "stream",
     "text": [
      "Фраза 1:привет\n",
      "Фраза 2:привет\n",
      "Фразы равной длины\n"
     ]
    }
   ],
   "source": [
    "phrase_1=(input('Фраза 1:'))\n",
    "\n",
    "phrase_2=(input('Фраза 2:'))\n",
    "\n",
    "if phrase_1>phrase_2:print ('Фраза 1 длиннее фразы 2')\n",
    "elif phrase_1<phrase_2: print (\"Фраза 2 длиннее фразы 1\")    \n",
    "else: print (\"Фразы равной длины\")"
   ]
  },
  {
   "cell_type": "code",
   "execution_count": 105,
   "id": "1654a061",
   "metadata": {},
   "outputs": [
    {
     "name": "stdout",
     "output_type": "stream",
     "text": [
      "год:1981\n",
      "обычный год\n"
     ]
    }
   ],
   "source": [
    "year=int(input('год:'))\n",
    "if year % 4 == 0 and year % 100 != 0 or year % 400 == 0:\n",
    "    print ('высокосный')\n",
    "else:\n",
    "    print ('обычный год')"
   ]
  },
  {
   "cell_type": "code",
   "execution_count": 96,
   "id": "abdb0535",
   "metadata": {},
   "outputs": [
    {
     "name": "stdout",
     "output_type": "stream",
     "text": [
      "Введите день рождения:12\n",
      "Введите месяц рождения:12\n",
      "Ваш знак зодиака:Стрелец\n"
     ]
    }
   ],
   "source": [
    "date=int(input('Введите день рождения:'))\n",
    "\n",
    "month=int(input('Введите месяц рождения:'))\n",
    "\n",
    "if (date>=21 and date<=31 and month==3) or( month==4 and date>=1 and date<=19):\n",
    "\n",
    "   print(\"Ваш знак зодиака:Овен\")\n",
    "\n",
    "elif (date>=20 and date<=30 and month==4) or( month==5 and date>=1 and date<=20):\n",
    "\n",
    "   print(\"Ваш знак зодиака:Телец\")\n",
    "\n",
    "elif (date>=21 and date<=31 and month==5) or( month==6 and date>=1 and date<=21):\n",
    "\n",
    "   print(\"Ваш знак зодиака:Близнецы\")\n",
    "\n",
    "elif (date>=22 and date<=30 and month==6) or( month==7 and date>=1 and date<=22):\n",
    "\n",
    "   print(\"Ваш знак зодиака:Рак\")\n",
    "\n",
    "elif (date>=23 and date<=31 and month==7) or( month==8 and date>=1 and date<=22):\n",
    "\n",
    "   print(\"Ваш знак зодиака:Лев\")\n",
    "\n",
    "elif (date>=23 and date<=31 and month==8) or( month==9 and date>=1 and date<=22):\n",
    "\n",
    "   print(\"Ваш знак зодиака:Дева\")\n",
    "\n",
    "elif (date>=23 and date<=30 and month==9) or( month==10 and date>=1 and date<=23):\n",
    "\n",
    "   print(\"Ваш знак зодиака:Весы\")\n",
    "\n",
    "elif (date>=24 and date<=31 and month==10) or( month==11 and date>=1 and date<=22):\n",
    "\n",
    "   print(\"Ваш знак зодиака:Скорпион\")\n",
    "\n",
    "elif (date>=23 and date<=30 and month==11) or( month==12 and date>=1 and date<=21):\n",
    "\n",
    "   print(\"Ваш знак зодиака:Стрелец\")\n",
    "\n",
    "elif (date>=22 and date<=31 and month==12) or( month==1 and date>=1 and date<=20):\n",
    "\n",
    "   print(\"Ваш знак зодиака:Козерог\")\n",
    "\n",
    "elif (date>=21 and date<=31 and month==1) or( month==2 and date>=1 and date<=18):\n",
    "\n",
    "   print(\"Ваш знак зодиака:Водолей\")\n",
    "\n",
    "elif (date>=19 and date<=29 and month==2) or( month==3 and date>=1 and date<=20):\n",
    "\n",
    "   print(\"Ваш знак зодиака:Рыбы\")"
   ]
  },
  {
   "cell_type": "code",
   "execution_count": 51,
   "id": "419070b1",
   "metadata": {},
   "outputs": [
    {
     "name": "stdout",
     "output_type": "stream",
     "text": [
      "ширина:16\n",
      "длина:40\n",
      "высота:25\n",
      "Коробка 2\n"
     ]
    }
   ],
   "source": [
    "width = int(input(\"ширина:\"))\n",
    "length = int(input(\"длина:\"))\n",
    "height = int(input(\"высота:\"))\n",
    "\n",
    "if (width<15 and length<15 and height<15): print (\"Коробка 1\")\n",
    "elif (length>200):print (\"Упаковка для лыж\")\n",
    "    \n",
    "elif (width>=15 and width<50) or (length>=15 and length<50) or (height>=15 and height <50): print (\"Коробка 2\")\n",
    "else: print (\"Стандартная коробка 3\")   \n",
    "    \n",
    "    "
   ]
  }
 ],
 "metadata": {
  "kernelspec": {
   "display_name": "Python 3",
   "language": "python",
   "name": "python3"
  },
  "language_info": {
   "codemirror_mode": {
    "name": "ipython",
    "version": 3
   },
   "file_extension": ".py",
   "mimetype": "text/x-python",
   "name": "python",
   "nbconvert_exporter": "python",
   "pygments_lexer": "ipython3",
   "version": "3.8.8"
  }
 },
 "nbformat": 4,
 "nbformat_minor": 5
}
